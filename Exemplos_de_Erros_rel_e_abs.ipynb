{
 "cells": [
  {
   "cell_type": "code",
   "execution_count": null,
   "id": "62ccd5f4",
   "metadata": {},
   "outputs": [
    {
     "name": "stdout",
     "output_type": "stream",
     "text": [
      "0.001592\n",
      "0.0005067\n"
     ]
    }
   ],
   "source": [
    "from Erro_relativo_e_absoluto_numero_fixo_de_precisao import biblioteca # importa a biblioteca\n",
    "\n",
    "a = biblioteca() # importou a classe da biblioteca\n",
    "\n",
    "valor = 3.141592\n",
    "\n",
    "aprox = 3.14\n",
    "\n",
    "print(a.erro_absoluto(valor,aprox)) # usando as funcoes erro absoluto\n",
    "print(a.erro_relativo(valor,aprox)) # e erro relativo \n"
   ]
  }
 ],
 "metadata": {
  "kernelspec": {
   "display_name": "Python 3",
   "language": "python",
   "name": "python3"
  },
  "language_info": {
   "codemirror_mode": {
    "name": "ipython",
    "version": 3
   },
   "file_extension": ".py",
   "mimetype": "text/x-python",
   "name": "python",
   "nbconvert_exporter": "python",
   "pygments_lexer": "ipython3",
   "version": "3.13.2"
  }
 },
 "nbformat": 4,
 "nbformat_minor": 5
}
