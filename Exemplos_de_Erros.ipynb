{
 "cells": [
  {
   "cell_type": "code",
   "execution_count": null,
   "id": "fc5dd065",
   "metadata": {
    "vscode": {
     "languageId": "plaintext"
    }
   },
   "outputs": [],
   "source": [
    "from Erro_relativo_e_absoluto_numero_fixo_de_precisao import biblioteca\n",
    "\n",
    "a = biblioteca()\n",
    "\n",
    "valor = 3.141592\n",
    "\n",
    "aprox = 3.14\n",
    "\n",
    "print(a.erro_absoluto(valor,aprox))"
   ]
  }
 ],
 "metadata": {
  "language_info": {
   "name": "python"
  }
 },
 "nbformat": 4,
 "nbformat_minor": 5
}
